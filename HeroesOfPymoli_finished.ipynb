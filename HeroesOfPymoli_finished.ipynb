{
 "cells": [
  {
   "cell_type": "markdown",
   "metadata": {},
   "source": [
    "### Note\n",
    "* Instructions have been included for each segment. You do not have to follow them exactly, but they are included to help you think through the steps."
   ]
  },
  {
   "cell_type": "code",
   "execution_count": 18,
   "metadata": {},
   "outputs": [
    {
     "data": {
      "text/html": [
       "<div>\n",
       "<style scoped>\n",
       "    .dataframe tbody tr th:only-of-type {\n",
       "        vertical-align: middle;\n",
       "    }\n",
       "\n",
       "    .dataframe tbody tr th {\n",
       "        vertical-align: top;\n",
       "    }\n",
       "\n",
       "    .dataframe thead th {\n",
       "        text-align: right;\n",
       "    }\n",
       "</style>\n",
       "<table border=\"1\" class=\"dataframe\">\n",
       "  <thead>\n",
       "    <tr style=\"text-align: right;\">\n",
       "      <th></th>\n",
       "      <th>Purchase ID</th>\n",
       "      <th>SN</th>\n",
       "      <th>Age</th>\n",
       "      <th>Gender</th>\n",
       "      <th>Item ID</th>\n",
       "      <th>Item Name</th>\n",
       "      <th>Price</th>\n",
       "    </tr>\n",
       "  </thead>\n",
       "  <tbody>\n",
       "    <tr>\n",
       "      <th>0</th>\n",
       "      <td>0</td>\n",
       "      <td>Lisim78</td>\n",
       "      <td>20</td>\n",
       "      <td>Male</td>\n",
       "      <td>108</td>\n",
       "      <td>Extraction, Quickblade Of Trembling Hands</td>\n",
       "      <td>3.53</td>\n",
       "    </tr>\n",
       "    <tr>\n",
       "      <th>1</th>\n",
       "      <td>1</td>\n",
       "      <td>Lisovynya38</td>\n",
       "      <td>40</td>\n",
       "      <td>Male</td>\n",
       "      <td>143</td>\n",
       "      <td>Frenzied Scimitar</td>\n",
       "      <td>1.56</td>\n",
       "    </tr>\n",
       "    <tr>\n",
       "      <th>2</th>\n",
       "      <td>2</td>\n",
       "      <td>Ithergue48</td>\n",
       "      <td>24</td>\n",
       "      <td>Male</td>\n",
       "      <td>92</td>\n",
       "      <td>Final Critic</td>\n",
       "      <td>4.88</td>\n",
       "    </tr>\n",
       "    <tr>\n",
       "      <th>3</th>\n",
       "      <td>3</td>\n",
       "      <td>Chamassasya86</td>\n",
       "      <td>24</td>\n",
       "      <td>Male</td>\n",
       "      <td>100</td>\n",
       "      <td>Blindscythe</td>\n",
       "      <td>3.27</td>\n",
       "    </tr>\n",
       "    <tr>\n",
       "      <th>4</th>\n",
       "      <td>4</td>\n",
       "      <td>Iskosia90</td>\n",
       "      <td>23</td>\n",
       "      <td>Male</td>\n",
       "      <td>131</td>\n",
       "      <td>Fury</td>\n",
       "      <td>1.44</td>\n",
       "    </tr>\n",
       "    <tr>\n",
       "      <th>...</th>\n",
       "      <td>...</td>\n",
       "      <td>...</td>\n",
       "      <td>...</td>\n",
       "      <td>...</td>\n",
       "      <td>...</td>\n",
       "      <td>...</td>\n",
       "      <td>...</td>\n",
       "    </tr>\n",
       "    <tr>\n",
       "      <th>775</th>\n",
       "      <td>775</td>\n",
       "      <td>Aethedru70</td>\n",
       "      <td>21</td>\n",
       "      <td>Female</td>\n",
       "      <td>60</td>\n",
       "      <td>Wolf</td>\n",
       "      <td>3.54</td>\n",
       "    </tr>\n",
       "    <tr>\n",
       "      <th>776</th>\n",
       "      <td>776</td>\n",
       "      <td>Iral74</td>\n",
       "      <td>21</td>\n",
       "      <td>Male</td>\n",
       "      <td>164</td>\n",
       "      <td>Exiled Doomblade</td>\n",
       "      <td>1.63</td>\n",
       "    </tr>\n",
       "    <tr>\n",
       "      <th>777</th>\n",
       "      <td>777</td>\n",
       "      <td>Yathecal72</td>\n",
       "      <td>20</td>\n",
       "      <td>Male</td>\n",
       "      <td>67</td>\n",
       "      <td>Celeste, Incarnation of the Corrupted</td>\n",
       "      <td>3.46</td>\n",
       "    </tr>\n",
       "    <tr>\n",
       "      <th>778</th>\n",
       "      <td>778</td>\n",
       "      <td>Sisur91</td>\n",
       "      <td>7</td>\n",
       "      <td>Male</td>\n",
       "      <td>92</td>\n",
       "      <td>Final Critic</td>\n",
       "      <td>4.19</td>\n",
       "    </tr>\n",
       "    <tr>\n",
       "      <th>779</th>\n",
       "      <td>779</td>\n",
       "      <td>Ennrian78</td>\n",
       "      <td>24</td>\n",
       "      <td>Male</td>\n",
       "      <td>50</td>\n",
       "      <td>Dawn</td>\n",
       "      <td>4.60</td>\n",
       "    </tr>\n",
       "  </tbody>\n",
       "</table>\n",
       "<p>780 rows × 7 columns</p>\n",
       "</div>"
      ],
      "text/plain": [
       "     Purchase ID             SN  Age  Gender  Item ID  \\\n",
       "0              0        Lisim78   20    Male      108   \n",
       "1              1    Lisovynya38   40    Male      143   \n",
       "2              2     Ithergue48   24    Male       92   \n",
       "3              3  Chamassasya86   24    Male      100   \n",
       "4              4      Iskosia90   23    Male      131   \n",
       "..           ...            ...  ...     ...      ...   \n",
       "775          775     Aethedru70   21  Female       60   \n",
       "776          776         Iral74   21    Male      164   \n",
       "777          777     Yathecal72   20    Male       67   \n",
       "778          778        Sisur91    7    Male       92   \n",
       "779          779      Ennrian78   24    Male       50   \n",
       "\n",
       "                                     Item Name  Price  \n",
       "0    Extraction, Quickblade Of Trembling Hands   3.53  \n",
       "1                            Frenzied Scimitar   1.56  \n",
       "2                                 Final Critic   4.88  \n",
       "3                                  Blindscythe   3.27  \n",
       "4                                         Fury   1.44  \n",
       "..                                         ...    ...  \n",
       "775                                       Wolf   3.54  \n",
       "776                           Exiled Doomblade   1.63  \n",
       "777      Celeste, Incarnation of the Corrupted   3.46  \n",
       "778                               Final Critic   4.19  \n",
       "779                                       Dawn   4.60  \n",
       "\n",
       "[780 rows x 7 columns]"
      ]
     },
     "execution_count": 18,
     "metadata": {},
     "output_type": "execute_result"
    }
   ],
   "source": [
    "# Dependencies and Setup\n",
    "import pandas as pd\n",
    "\n",
    "# File to Load (Remember to Change These)\n",
    "file_to_load = \"Resources/purchase_data.csv\"\n",
    "\n",
    "# Read Purchasing File and store into Pandas data frame\n",
    "purchase_data = pd.read_csv(file_to_load)\n",
    "\n",
    "purchase_data"
   ]
  },
  {
   "cell_type": "markdown",
   "metadata": {},
   "source": [
    "## Player Count"
   ]
  },
  {
   "cell_type": "markdown",
   "metadata": {},
   "source": [
    "* Display the total number of players\n"
   ]
  },
  {
   "cell_type": "code",
   "execution_count": 24,
   "metadata": {},
   "outputs": [
    {
     "name": "stdout",
     "output_type": "stream",
     "text": [
      "The total number of players is 576.\n"
     ]
    }
   ],
   "source": [
    "#Need to find unique SNs due to potential multiple purchases \n",
    "number_of_players = len(purchase_data[\"SN\"].value_counts())\n",
    "\n",
    "\n",
    "print(f\"The total number of players is \" + str(number_of_players) +\".\")"
   ]
  },
  {
   "cell_type": "markdown",
   "metadata": {},
   "source": [
    "## Purchasing Analysis (Total)"
   ]
  },
  {
   "cell_type": "markdown",
   "metadata": {},
   "source": [
    "* Run basic calculations to obtain number of unique items, average price, etc.\n",
    "\n",
    "\n",
    "* Create a summary data frame to hold the results\n",
    "\n",
    "\n",
    "* Optional: give the displayed data cleaner formatting\n",
    "\n",
    "\n",
    "* Display the summary data frame\n"
   ]
  },
  {
   "cell_type": "code",
   "execution_count": 139,
   "metadata": {
    "scrolled": true
   },
   "outputs": [
    {
     "data": {
      "text/html": [
       "<style  type=\"text/css\" >\n",
       "</style><table id=\"T_fb77ef34_f626_11ea_a8a9_1094bbe29c6e\" ><thead>    <tr>        <th class=\"blank level0\" ></th>        <th class=\"col_heading level0 col0\" >Number of Unique Items</th>        <th class=\"col_heading level0 col1\" >Average Purchase Price</th>        <th class=\"col_heading level0 col2\" >Total Number of Purchases</th>        <th class=\"col_heading level0 col3\" >Total Revenue</th>    </tr></thead><tbody>\n",
       "                <tr>\n",
       "                        <th id=\"T_fb77ef34_f626_11ea_a8a9_1094bbe29c6elevel0_row0\" class=\"row_heading level0 row0\" >0</th>\n",
       "                        <td id=\"T_fb77ef34_f626_11ea_a8a9_1094bbe29c6erow0_col0\" class=\"data row0 col0\" >179</td>\n",
       "                        <td id=\"T_fb77ef34_f626_11ea_a8a9_1094bbe29c6erow0_col1\" class=\"data row0 col1\" >$3.05</td>\n",
       "                        <td id=\"T_fb77ef34_f626_11ea_a8a9_1094bbe29c6erow0_col2\" class=\"data row0 col2\" >780</td>\n",
       "                        <td id=\"T_fb77ef34_f626_11ea_a8a9_1094bbe29c6erow0_col3\" class=\"data row0 col3\" >$2,379.77</td>\n",
       "            </tr>\n",
       "    </tbody></table>"
      ],
      "text/plain": [
       "<pandas.io.formats.style.Styler at 0x7f9416344dc0>"
      ]
     },
     "execution_count": 139,
     "metadata": {},
     "output_type": "execute_result"
    }
   ],
   "source": [
    "number_of_items=len(purchase_data[\"Item ID\"].value_counts())\n",
    "average_price=round(purchase_data[\"Price\"].mean(),2)\n",
    "number_of_purchases=purchase_data[\"Price\"].count()\n",
    "total_revenue=purchase_data[\"Price\"].sum()\n",
    "\n",
    "\n",
    "\n",
    "\n",
    "summary_df=pd.DataFrame({\"Number of Unique Items\": [number_of_items], \n",
    "                         \"Average Purchase Price\": [average_price], \n",
    "                         \"Total Number of Purchases\": [number_of_purchases],\n",
    "                        \"Total Revenue\": [total_revenue]})\n",
    "\n",
    "clean_summary_df=summary_df.style.format({\n",
    "                         \"Average Purchase Price\": \"${:,.2f}\",\n",
    "                         \"Total Revenue\": \"${:,.2f}\"})\n",
    "\n",
    "clean_summary_df"
   ]
  },
  {
   "cell_type": "markdown",
   "metadata": {},
   "source": [
    "## Gender Demographics"
   ]
  },
  {
   "cell_type": "markdown",
   "metadata": {},
   "source": [
    "* Percentage and Count of Male Players\n",
    "\n",
    "\n",
    "* Percentage and Count of Female Players\n",
    "\n",
    "\n",
    "* Percentage and Count of Other / Non-Disclosed\n",
    "\n",
    "\n"
   ]
  },
  {
   "cell_type": "code",
   "execution_count": 52,
   "metadata": {},
   "outputs": [
    {
     "data": {
      "text/html": [
       "<div>\n",
       "<style scoped>\n",
       "    .dataframe tbody tr th:only-of-type {\n",
       "        vertical-align: middle;\n",
       "    }\n",
       "\n",
       "    .dataframe tbody tr th {\n",
       "        vertical-align: top;\n",
       "    }\n",
       "\n",
       "    .dataframe thead th {\n",
       "        text-align: right;\n",
       "    }\n",
       "</style>\n",
       "<table border=\"1\" class=\"dataframe\">\n",
       "  <thead>\n",
       "    <tr style=\"text-align: right;\">\n",
       "      <th></th>\n",
       "      <th>Purchase ID</th>\n",
       "      <th>SN</th>\n",
       "      <th>Age</th>\n",
       "      <th>Gender</th>\n",
       "      <th>Item ID</th>\n",
       "      <th>Item Name</th>\n",
       "      <th>Price</th>\n",
       "    </tr>\n",
       "  </thead>\n",
       "  <tbody>\n",
       "    <tr>\n",
       "      <th>0</th>\n",
       "      <td>0</td>\n",
       "      <td>Lisim78</td>\n",
       "      <td>20</td>\n",
       "      <td>Male</td>\n",
       "      <td>108</td>\n",
       "      <td>Extraction, Quickblade Of Trembling Hands</td>\n",
       "      <td>3.53</td>\n",
       "    </tr>\n",
       "    <tr>\n",
       "      <th>1</th>\n",
       "      <td>1</td>\n",
       "      <td>Lisovynya38</td>\n",
       "      <td>40</td>\n",
       "      <td>Male</td>\n",
       "      <td>143</td>\n",
       "      <td>Frenzied Scimitar</td>\n",
       "      <td>1.56</td>\n",
       "    </tr>\n",
       "    <tr>\n",
       "      <th>2</th>\n",
       "      <td>2</td>\n",
       "      <td>Ithergue48</td>\n",
       "      <td>24</td>\n",
       "      <td>Male</td>\n",
       "      <td>92</td>\n",
       "      <td>Final Critic</td>\n",
       "      <td>4.88</td>\n",
       "    </tr>\n",
       "    <tr>\n",
       "      <th>3</th>\n",
       "      <td>3</td>\n",
       "      <td>Chamassasya86</td>\n",
       "      <td>24</td>\n",
       "      <td>Male</td>\n",
       "      <td>100</td>\n",
       "      <td>Blindscythe</td>\n",
       "      <td>3.27</td>\n",
       "    </tr>\n",
       "    <tr>\n",
       "      <th>4</th>\n",
       "      <td>4</td>\n",
       "      <td>Iskosia90</td>\n",
       "      <td>23</td>\n",
       "      <td>Male</td>\n",
       "      <td>131</td>\n",
       "      <td>Fury</td>\n",
       "      <td>1.44</td>\n",
       "    </tr>\n",
       "  </tbody>\n",
       "</table>\n",
       "</div>"
      ],
      "text/plain": [
       "   Purchase ID             SN  Age Gender  Item ID  \\\n",
       "0            0        Lisim78   20   Male      108   \n",
       "1            1    Lisovynya38   40   Male      143   \n",
       "2            2     Ithergue48   24   Male       92   \n",
       "3            3  Chamassasya86   24   Male      100   \n",
       "4            4      Iskosia90   23   Male      131   \n",
       "\n",
       "                                   Item Name  Price  \n",
       "0  Extraction, Quickblade Of Trembling Hands   3.53  \n",
       "1                          Frenzied Scimitar   1.56  \n",
       "2                               Final Critic   4.88  \n",
       "3                                Blindscythe   3.27  \n",
       "4                                       Fury   1.44  "
      ]
     },
     "execution_count": 52,
     "metadata": {},
     "output_type": "execute_result"
    }
   ],
   "source": [
    "purchase_data.head()"
   ]
  },
  {
   "cell_type": "code",
   "execution_count": 86,
   "metadata": {},
   "outputs": [
    {
     "data": {
      "text/html": [
       "<div>\n",
       "<style scoped>\n",
       "    .dataframe tbody tr th:only-of-type {\n",
       "        vertical-align: middle;\n",
       "    }\n",
       "\n",
       "    .dataframe tbody tr th {\n",
       "        vertical-align: top;\n",
       "    }\n",
       "\n",
       "    .dataframe thead th {\n",
       "        text-align: right;\n",
       "    }\n",
       "</style>\n",
       "<table border=\"1\" class=\"dataframe\">\n",
       "  <thead>\n",
       "    <tr style=\"text-align: right;\">\n",
       "      <th></th>\n",
       "      <th>Percentage of Players</th>\n",
       "      <th>Total Count</th>\n",
       "    </tr>\n",
       "    <tr>\n",
       "      <th>Gender</th>\n",
       "      <th></th>\n",
       "      <th></th>\n",
       "    </tr>\n",
       "  </thead>\n",
       "  <tbody>\n",
       "    <tr>\n",
       "      <th>Female</th>\n",
       "      <td>14.06</td>\n",
       "      <td>81</td>\n",
       "    </tr>\n",
       "    <tr>\n",
       "      <th>Male</th>\n",
       "      <td>84.03</td>\n",
       "      <td>484</td>\n",
       "    </tr>\n",
       "    <tr>\n",
       "      <th>Other / Non-Disclosed</th>\n",
       "      <td>1.91</td>\n",
       "      <td>11</td>\n",
       "    </tr>\n",
       "  </tbody>\n",
       "</table>\n",
       "</div>"
      ],
      "text/plain": [
       "                       Percentage of Players  Total Count\n",
       "Gender                                                   \n",
       "Female                                 14.06           81\n",
       "Male                                   84.03          484\n",
       "Other / Non-Disclosed                   1.91           11"
      ]
     },
     "execution_count": 86,
     "metadata": {},
     "output_type": "execute_result"
    }
   ],
   "source": [
    "gender=purchase_data.groupby(\"Gender\")\n",
    "gender_count=gender[\"SN\"].nunique()\n",
    "gender_count\n",
    "\n",
    "gender_percent=round(gender_count/number_of_players*100,2)\n",
    "\n",
    "gender_percent\n",
    "\n",
    "gender_stats = pd.DataFrame({\"Percentage of Players\": gender_percent, \n",
    "                             \"Total Count\": gender_count})\n",
    "gender_stats"
   ]
  },
  {
   "cell_type": "markdown",
   "metadata": {},
   "source": [
    "\n",
    "## Purchasing Analysis (Gender)"
   ]
  },
  {
   "cell_type": "markdown",
   "metadata": {},
   "source": [
    "* Run basic calculations to obtain purchase count, avg. purchase price, avg. purchase total per person etc. by gender\n",
    "\n",
    "\n",
    "\n",
    "\n",
    "* Create a summary data frame to hold the results\n",
    "\n",
    "\n",
    "* Optional: give the displayed data cleaner formatting\n",
    "\n",
    "\n",
    "* Display the summary data frame"
   ]
  },
  {
   "cell_type": "code",
   "execution_count": null,
   "metadata": {},
   "outputs": [],
   "source": []
  },
  {
   "cell_type": "code",
   "execution_count": 152,
   "metadata": {},
   "outputs": [
    {
     "data": {
      "text/html": [
       "<style  type=\"text/css\" >\n",
       "</style><table id=\"T_04ec086e_f629_11ea_a8a9_1094bbe29c6e\" ><thead>    <tr>        <th class=\"blank level0\" ></th>        <th class=\"col_heading level0 col0\" >Purchase Count</th>        <th class=\"col_heading level0 col1\" >Average Purchase Price</th>        <th class=\"col_heading level0 col2\" >Total Purchase Value</th>        <th class=\"col_heading level0 col3\" >Average Purchase Total per Person</th>    </tr>    <tr>        <th class=\"index_name level0\" >Gender</th>        <th class=\"blank\" ></th>        <th class=\"blank\" ></th>        <th class=\"blank\" ></th>        <th class=\"blank\" ></th>    </tr></thead><tbody>\n",
       "                <tr>\n",
       "                        <th id=\"T_04ec086e_f629_11ea_a8a9_1094bbe29c6elevel0_row0\" class=\"row_heading level0 row0\" >Female</th>\n",
       "                        <td id=\"T_04ec086e_f629_11ea_a8a9_1094bbe29c6erow0_col0\" class=\"data row0 col0\" >113</td>\n",
       "                        <td id=\"T_04ec086e_f629_11ea_a8a9_1094bbe29c6erow0_col1\" class=\"data row0 col1\" >$3.20</td>\n",
       "                        <td id=\"T_04ec086e_f629_11ea_a8a9_1094bbe29c6erow0_col2\" class=\"data row0 col2\" >$361.94</td>\n",
       "                        <td id=\"T_04ec086e_f629_11ea_a8a9_1094bbe29c6erow0_col3\" class=\"data row0 col3\" >$4.47</td>\n",
       "            </tr>\n",
       "            <tr>\n",
       "                        <th id=\"T_04ec086e_f629_11ea_a8a9_1094bbe29c6elevel0_row1\" class=\"row_heading level0 row1\" >Male</th>\n",
       "                        <td id=\"T_04ec086e_f629_11ea_a8a9_1094bbe29c6erow1_col0\" class=\"data row1 col0\" >652</td>\n",
       "                        <td id=\"T_04ec086e_f629_11ea_a8a9_1094bbe29c6erow1_col1\" class=\"data row1 col1\" >$3.02</td>\n",
       "                        <td id=\"T_04ec086e_f629_11ea_a8a9_1094bbe29c6erow1_col2\" class=\"data row1 col2\" >$1,967.64</td>\n",
       "                        <td id=\"T_04ec086e_f629_11ea_a8a9_1094bbe29c6erow1_col3\" class=\"data row1 col3\" >$4.07</td>\n",
       "            </tr>\n",
       "            <tr>\n",
       "                        <th id=\"T_04ec086e_f629_11ea_a8a9_1094bbe29c6elevel0_row2\" class=\"row_heading level0 row2\" >Other / Non-Disclosed</th>\n",
       "                        <td id=\"T_04ec086e_f629_11ea_a8a9_1094bbe29c6erow2_col0\" class=\"data row2 col0\" >15</td>\n",
       "                        <td id=\"T_04ec086e_f629_11ea_a8a9_1094bbe29c6erow2_col1\" class=\"data row2 col1\" >$3.35</td>\n",
       "                        <td id=\"T_04ec086e_f629_11ea_a8a9_1094bbe29c6erow2_col2\" class=\"data row2 col2\" >$50.19</td>\n",
       "                        <td id=\"T_04ec086e_f629_11ea_a8a9_1094bbe29c6erow2_col3\" class=\"data row2 col3\" >$4.56</td>\n",
       "            </tr>\n",
       "    </tbody></table>"
      ],
      "text/plain": [
       "<pandas.io.formats.style.Styler at 0x7f94164095e0>"
      ]
     },
     "execution_count": 152,
     "metadata": {},
     "output_type": "execute_result"
    }
   ],
   "source": [
    "purchase_count_by_gender=gender[\"Purchase ID\"].count()\n",
    "purchase_price_avg_by_gender=round(gender[\"Price\"].mean(),2)\n",
    "total_purchase_gender=gender[\"Price\"].sum()\n",
    "average_purchase_by_gender=round(total_purchase_gender/purchase_unique,2)\n",
    "\n",
    "purchase_unique=gender[\"SN\"].nunique()\n",
    "\n",
    "\n",
    "purchase_gender_df=pd.DataFrame({\"Purchase Count\": purchase_count_by_gender, \n",
    "                                \"Average Purchase Price\": purchase_price_avg_by_gender,\n",
    "                                \"Total Purchase Value\": total_purchase_gender,\n",
    "                                \"Average Purchase Total per Person\": average_purchase_by_gender})\n",
    "\n",
    "\n",
    "clean_purchase_gender_df=purchase_gender_df.style.format({\n",
    "                         \"Average Purchase Price\": \"${:,.2f}\",\n",
    "                         \"Total Purchase Value\": \"${:,.2f}\",\n",
    "                         \"Average Purchase Total per Person\": \"${:,.2f}\"})\n",
    "\n",
    "clean_purchase_gender_df"
   ]
  },
  {
   "cell_type": "code",
   "execution_count": null,
   "metadata": {},
   "outputs": [],
   "source": []
  },
  {
   "cell_type": "markdown",
   "metadata": {},
   "source": [
    "## Age Demographics"
   ]
  },
  {
   "cell_type": "code",
   "execution_count": null,
   "metadata": {},
   "outputs": [],
   "source": []
  },
  {
   "cell_type": "markdown",
   "metadata": {},
   "source": [
    "* Establish bins for ages\n",
    "\n",
    "\n",
    "* Categorize the existing players using the age bins. Hint: use pd.cut()\n",
    "\n",
    "\n",
    "* Calculate the numbers and percentages by age group\n",
    "\n",
    "\n",
    "* Create a summary data frame to hold the results\n",
    "\n",
    "\n",
    "* Optional: round the percentage column to two decimal points\n",
    "\n",
    "\n",
    "* Display Age Demographics Table\n"
   ]
  },
  {
   "cell_type": "code",
   "execution_count": 133,
   "metadata": {},
   "outputs": [
    {
     "data": {
      "text/html": [
       "<div>\n",
       "<style scoped>\n",
       "    .dataframe tbody tr th:only-of-type {\n",
       "        vertical-align: middle;\n",
       "    }\n",
       "\n",
       "    .dataframe tbody tr th {\n",
       "        vertical-align: top;\n",
       "    }\n",
       "\n",
       "    .dataframe thead th {\n",
       "        text-align: right;\n",
       "    }\n",
       "</style>\n",
       "<table border=\"1\" class=\"dataframe\">\n",
       "  <thead>\n",
       "    <tr style=\"text-align: right;\">\n",
       "      <th></th>\n",
       "      <th>Total Count</th>\n",
       "      <th>Percentage of Players</th>\n",
       "    </tr>\n",
       "    <tr>\n",
       "      <th>Age Group</th>\n",
       "      <th></th>\n",
       "      <th></th>\n",
       "    </tr>\n",
       "  </thead>\n",
       "  <tbody>\n",
       "    <tr>\n",
       "      <th>&lt;10</th>\n",
       "      <td>17</td>\n",
       "      <td>2.95</td>\n",
       "    </tr>\n",
       "    <tr>\n",
       "      <th>10-14</th>\n",
       "      <td>22</td>\n",
       "      <td>3.82</td>\n",
       "    </tr>\n",
       "    <tr>\n",
       "      <th>15-19</th>\n",
       "      <td>107</td>\n",
       "      <td>18.58</td>\n",
       "    </tr>\n",
       "    <tr>\n",
       "      <th>20-24</th>\n",
       "      <td>258</td>\n",
       "      <td>44.79</td>\n",
       "    </tr>\n",
       "    <tr>\n",
       "      <th>25-29</th>\n",
       "      <td>77</td>\n",
       "      <td>13.37</td>\n",
       "    </tr>\n",
       "    <tr>\n",
       "      <th>30-34</th>\n",
       "      <td>52</td>\n",
       "      <td>9.03</td>\n",
       "    </tr>\n",
       "    <tr>\n",
       "      <th>35-39</th>\n",
       "      <td>31</td>\n",
       "      <td>5.38</td>\n",
       "    </tr>\n",
       "    <tr>\n",
       "      <th>40+</th>\n",
       "      <td>12</td>\n",
       "      <td>2.08</td>\n",
       "    </tr>\n",
       "  </tbody>\n",
       "</table>\n",
       "</div>"
      ],
      "text/plain": [
       "           Total Count  Percentage of Players\n",
       "Age Group                                    \n",
       "<10                 17                   2.95\n",
       "10-14               22                   3.82\n",
       "15-19              107                  18.58\n",
       "20-24              258                  44.79\n",
       "25-29               77                  13.37\n",
       "30-34               52                   9.03\n",
       "35-39               31                   5.38\n",
       "40+                 12                   2.08"
      ]
     },
     "execution_count": 133,
     "metadata": {},
     "output_type": "execute_result"
    }
   ],
   "source": [
    "bin_ages = [0, 9.90, 14.90, 19.90, 24.90, 29.90, 34.90, 39.90, 99999]\n",
    "bin_names = [\"<10\", \"10-14\", \"15-19\", \"20-24\", \"25-29\", \"30-34\", \"35-39\", \"40+\"]\n",
    "\n",
    "purchase_data[\"Age Group\"] = pd.cut(purchase_data[\"Age\"],bin_ages, labels=bin_names)\n",
    "\n",
    "grouped_ages = purchase_data.groupby(\"Age Group\")\n",
    "grouped_ages.head()\n",
    "\n",
    "purchase_count_age=grouped_ages[\"SN\"].nunique()\n",
    "percentage_age=round(purchase_count_age/number_of_players*100,2)\n",
    "\n",
    "age_stats=pd.DataFrame({\"Total Count\": purchase_count_age, \n",
    "                       \"Percentage of Players\": percentage_age})\n",
    "\n",
    "\n",
    "\n",
    "age_stats"
   ]
  },
  {
   "cell_type": "markdown",
   "metadata": {},
   "source": [
    "## Purchasing Analysis (Age)"
   ]
  },
  {
   "cell_type": "markdown",
   "metadata": {},
   "source": [
    "* Bin the purchase_data data frame by age\n",
    "\n",
    "\n",
    "* Run basic calculations to obtain purchase count, avg. purchase price, avg. purchase total per person etc. in the table below\n",
    "\n",
    "\n",
    "* Create a summary data frame to hold the results\n",
    "\n",
    "\n",
    "* Optional: give the displayed data cleaner formatting\n",
    "\n",
    "\n",
    "* Display the summary data frame"
   ]
  },
  {
   "cell_type": "code",
   "execution_count": 128,
   "metadata": {},
   "outputs": [
    {
     "data": {
      "text/html": [
       "<style  type=\"text/css\" >\n",
       "</style><table id=\"T_2f731c24_f626_11ea_a8a9_1094bbe29c6e\" ><thead>    <tr>        <th class=\"blank level0\" ></th>        <th class=\"col_heading level0 col0\" >Purchase Count</th>        <th class=\"col_heading level0 col1\" >Average Purchase Price</th>        <th class=\"col_heading level0 col2\" >Total Purchase Value</th>        <th class=\"col_heading level0 col3\" >Average Purchase Total per Person by Age Group</th>    </tr>    <tr>        <th class=\"index_name level0\" >Age Group</th>        <th class=\"blank\" ></th>        <th class=\"blank\" ></th>        <th class=\"blank\" ></th>        <th class=\"blank\" ></th>    </tr></thead><tbody>\n",
       "                <tr>\n",
       "                        <th id=\"T_2f731c24_f626_11ea_a8a9_1094bbe29c6elevel0_row0\" class=\"row_heading level0 row0\" ><10</th>\n",
       "                        <td id=\"T_2f731c24_f626_11ea_a8a9_1094bbe29c6erow0_col0\" class=\"data row0 col0\" >17</td>\n",
       "                        <td id=\"T_2f731c24_f626_11ea_a8a9_1094bbe29c6erow0_col1\" class=\"data row0 col1\" >$3.35</td>\n",
       "                        <td id=\"T_2f731c24_f626_11ea_a8a9_1094bbe29c6erow0_col2\" class=\"data row0 col2\" >$77.13</td>\n",
       "                        <td id=\"T_2f731c24_f626_11ea_a8a9_1094bbe29c6erow0_col3\" class=\"data row0 col3\" >$4.54</td>\n",
       "            </tr>\n",
       "            <tr>\n",
       "                        <th id=\"T_2f731c24_f626_11ea_a8a9_1094bbe29c6elevel0_row1\" class=\"row_heading level0 row1\" >10-14</th>\n",
       "                        <td id=\"T_2f731c24_f626_11ea_a8a9_1094bbe29c6erow1_col0\" class=\"data row1 col0\" >22</td>\n",
       "                        <td id=\"T_2f731c24_f626_11ea_a8a9_1094bbe29c6erow1_col1\" class=\"data row1 col1\" >$2.96</td>\n",
       "                        <td id=\"T_2f731c24_f626_11ea_a8a9_1094bbe29c6erow1_col2\" class=\"data row1 col2\" >$82.78</td>\n",
       "                        <td id=\"T_2f731c24_f626_11ea_a8a9_1094bbe29c6erow1_col3\" class=\"data row1 col3\" >$3.76</td>\n",
       "            </tr>\n",
       "            <tr>\n",
       "                        <th id=\"T_2f731c24_f626_11ea_a8a9_1094bbe29c6elevel0_row2\" class=\"row_heading level0 row2\" >15-19</th>\n",
       "                        <td id=\"T_2f731c24_f626_11ea_a8a9_1094bbe29c6erow2_col0\" class=\"data row2 col0\" >107</td>\n",
       "                        <td id=\"T_2f731c24_f626_11ea_a8a9_1094bbe29c6erow2_col1\" class=\"data row2 col1\" >$3.04</td>\n",
       "                        <td id=\"T_2f731c24_f626_11ea_a8a9_1094bbe29c6erow2_col2\" class=\"data row2 col2\" >$412.89</td>\n",
       "                        <td id=\"T_2f731c24_f626_11ea_a8a9_1094bbe29c6erow2_col3\" class=\"data row2 col3\" >$3.86</td>\n",
       "            </tr>\n",
       "            <tr>\n",
       "                        <th id=\"T_2f731c24_f626_11ea_a8a9_1094bbe29c6elevel0_row3\" class=\"row_heading level0 row3\" >20-24</th>\n",
       "                        <td id=\"T_2f731c24_f626_11ea_a8a9_1094bbe29c6erow3_col0\" class=\"data row3 col0\" >258</td>\n",
       "                        <td id=\"T_2f731c24_f626_11ea_a8a9_1094bbe29c6erow3_col1\" class=\"data row3 col1\" >$3.05</td>\n",
       "                        <td id=\"T_2f731c24_f626_11ea_a8a9_1094bbe29c6erow3_col2\" class=\"data row3 col2\" >$1,114.06</td>\n",
       "                        <td id=\"T_2f731c24_f626_11ea_a8a9_1094bbe29c6erow3_col3\" class=\"data row3 col3\" >$4.32</td>\n",
       "            </tr>\n",
       "            <tr>\n",
       "                        <th id=\"T_2f731c24_f626_11ea_a8a9_1094bbe29c6elevel0_row4\" class=\"row_heading level0 row4\" >25-29</th>\n",
       "                        <td id=\"T_2f731c24_f626_11ea_a8a9_1094bbe29c6erow4_col0\" class=\"data row4 col0\" >77</td>\n",
       "                        <td id=\"T_2f731c24_f626_11ea_a8a9_1094bbe29c6erow4_col1\" class=\"data row4 col1\" >$2.90</td>\n",
       "                        <td id=\"T_2f731c24_f626_11ea_a8a9_1094bbe29c6erow4_col2\" class=\"data row4 col2\" >$293.00</td>\n",
       "                        <td id=\"T_2f731c24_f626_11ea_a8a9_1094bbe29c6erow4_col3\" class=\"data row4 col3\" >$3.81</td>\n",
       "            </tr>\n",
       "            <tr>\n",
       "                        <th id=\"T_2f731c24_f626_11ea_a8a9_1094bbe29c6elevel0_row5\" class=\"row_heading level0 row5\" >30-34</th>\n",
       "                        <td id=\"T_2f731c24_f626_11ea_a8a9_1094bbe29c6erow5_col0\" class=\"data row5 col0\" >52</td>\n",
       "                        <td id=\"T_2f731c24_f626_11ea_a8a9_1094bbe29c6erow5_col1\" class=\"data row5 col1\" >$2.93</td>\n",
       "                        <td id=\"T_2f731c24_f626_11ea_a8a9_1094bbe29c6erow5_col2\" class=\"data row5 col2\" >$214.00</td>\n",
       "                        <td id=\"T_2f731c24_f626_11ea_a8a9_1094bbe29c6erow5_col3\" class=\"data row5 col3\" >$4.12</td>\n",
       "            </tr>\n",
       "            <tr>\n",
       "                        <th id=\"T_2f731c24_f626_11ea_a8a9_1094bbe29c6elevel0_row6\" class=\"row_heading level0 row6\" >35-39</th>\n",
       "                        <td id=\"T_2f731c24_f626_11ea_a8a9_1094bbe29c6erow6_col0\" class=\"data row6 col0\" >31</td>\n",
       "                        <td id=\"T_2f731c24_f626_11ea_a8a9_1094bbe29c6erow6_col1\" class=\"data row6 col1\" >$3.60</td>\n",
       "                        <td id=\"T_2f731c24_f626_11ea_a8a9_1094bbe29c6erow6_col2\" class=\"data row6 col2\" >$147.67</td>\n",
       "                        <td id=\"T_2f731c24_f626_11ea_a8a9_1094bbe29c6erow6_col3\" class=\"data row6 col3\" >$4.76</td>\n",
       "            </tr>\n",
       "            <tr>\n",
       "                        <th id=\"T_2f731c24_f626_11ea_a8a9_1094bbe29c6elevel0_row7\" class=\"row_heading level0 row7\" >40+</th>\n",
       "                        <td id=\"T_2f731c24_f626_11ea_a8a9_1094bbe29c6erow7_col0\" class=\"data row7 col0\" >12</td>\n",
       "                        <td id=\"T_2f731c24_f626_11ea_a8a9_1094bbe29c6erow7_col1\" class=\"data row7 col1\" >$2.94</td>\n",
       "                        <td id=\"T_2f731c24_f626_11ea_a8a9_1094bbe29c6erow7_col2\" class=\"data row7 col2\" >$38.24</td>\n",
       "                        <td id=\"T_2f731c24_f626_11ea_a8a9_1094bbe29c6erow7_col3\" class=\"data row7 col3\" >$3.19</td>\n",
       "            </tr>\n",
       "    </tbody></table>"
      ],
      "text/plain": [
       "<pandas.io.formats.style.Styler at 0x7f9414e866d0>"
      ]
     },
     "execution_count": 128,
     "metadata": {},
     "output_type": "execute_result"
    }
   ],
   "source": [
    "bin_ages = [0, 9.90, 14.90, 19.90, 24.90, 29.90, 34.90, 39.90, 99999]\n",
    "bin_names = [\"<10\", \"10-14\", \"15-19\", \"20-24\", \"25-29\", \"30-34\", \"35-39\", \"40+\"]\n",
    "\n",
    "purchase_data[\"Age Group\"] = pd.cut(purchase_data[\"Age\"],bin_ages, labels=bin_names)\n",
    "\n",
    "grouped_ages = purchase_data.groupby(\"Age Group\")\n",
    "grouped_ages.head()\n",
    "\n",
    "purchase_count_age=grouped_ages[\"SN\"].nunique()\n",
    "avg_purchase_count_age=grouped_ages[\"Price\"].mean()\n",
    "total_purchase_age=grouped_ages[\"Price\"].sum()\n",
    "avg_per_age=total_purchase_age/purchase_count_age\n",
    "\n",
    "age_demo_df=pd.DataFrame({\"Purchase Count\": purchase_count_age, \n",
    "                         \"Average Purchase Price\": avg_purchase_count_age,\n",
    "                         \"Total Purchase Value\": total_purchase_age,\n",
    "                         \"Average Purchase Total per Person by Age Group\": avg_per_age})\n",
    "\n",
    "\"${:,.2f}\"\n",
    "\n",
    "\n",
    "\n",
    "clean_age_demo=age_demo_df.style.format({\n",
    "                         \"Average Purchase Price\": \"${:,.2f}\",\n",
    "                         \"Total Purchase Value\": \"${:,.2f}\",\n",
    "                         \"Average Purchase Total per Person by Age Group\": \"${:,.2f}\"})\n",
    "clean_age_demo"
   ]
  },
  {
   "cell_type": "markdown",
   "metadata": {},
   "source": [
    "## Top Spenders"
   ]
  },
  {
   "cell_type": "markdown",
   "metadata": {},
   "source": [
    "* Run basic calculations to obtain the results in the table below\n",
    "\n",
    "\n",
    "* Create a summary data frame to hold the results\n",
    "\n",
    "\n",
    "* Sort the total purchase value column in descending order\n",
    "\n",
    "\n",
    "* Optional: give the displayed data cleaner formatting\n",
    "\n",
    "\n",
    "* Display a preview of the summary data frame\n",
    "\n"
   ]
  },
  {
   "cell_type": "code",
   "execution_count": 140,
   "metadata": {},
   "outputs": [
    {
     "data": {
      "text/html": [
       "<style  type=\"text/css\" >\n",
       "</style><table id=\"T_0005e81c_f627_11ea_a8a9_1094bbe29c6e\" ><thead>    <tr>        <th class=\"blank level0\" ></th>        <th class=\"col_heading level0 col0\" >Purchase Count</th>        <th class=\"col_heading level0 col1\" >Average Purchase Price</th>        <th class=\"col_heading level0 col2\" >Total Purchase Value</th>    </tr>    <tr>        <th class=\"index_name level0\" >SN</th>        <th class=\"blank\" ></th>        <th class=\"blank\" ></th>        <th class=\"blank\" ></th>    </tr></thead><tbody>\n",
       "                <tr>\n",
       "                        <th id=\"T_0005e81c_f627_11ea_a8a9_1094bbe29c6elevel0_row0\" class=\"row_heading level0 row0\" >Lisosia93</th>\n",
       "                        <td id=\"T_0005e81c_f627_11ea_a8a9_1094bbe29c6erow0_col0\" class=\"data row0 col0\" >5</td>\n",
       "                        <td id=\"T_0005e81c_f627_11ea_a8a9_1094bbe29c6erow0_col1\" class=\"data row0 col1\" >$3.79</td>\n",
       "                        <td id=\"T_0005e81c_f627_11ea_a8a9_1094bbe29c6erow0_col2\" class=\"data row0 col2\" >$18.96</td>\n",
       "            </tr>\n",
       "            <tr>\n",
       "                        <th id=\"T_0005e81c_f627_11ea_a8a9_1094bbe29c6elevel0_row1\" class=\"row_heading level0 row1\" >Idastidru52</th>\n",
       "                        <td id=\"T_0005e81c_f627_11ea_a8a9_1094bbe29c6erow1_col0\" class=\"data row1 col0\" >4</td>\n",
       "                        <td id=\"T_0005e81c_f627_11ea_a8a9_1094bbe29c6erow1_col1\" class=\"data row1 col1\" >$3.86</td>\n",
       "                        <td id=\"T_0005e81c_f627_11ea_a8a9_1094bbe29c6erow1_col2\" class=\"data row1 col2\" >$15.45</td>\n",
       "            </tr>\n",
       "            <tr>\n",
       "                        <th id=\"T_0005e81c_f627_11ea_a8a9_1094bbe29c6elevel0_row2\" class=\"row_heading level0 row2\" >Chamjask73</th>\n",
       "                        <td id=\"T_0005e81c_f627_11ea_a8a9_1094bbe29c6erow2_col0\" class=\"data row2 col0\" >3</td>\n",
       "                        <td id=\"T_0005e81c_f627_11ea_a8a9_1094bbe29c6erow2_col1\" class=\"data row2 col1\" >$4.61</td>\n",
       "                        <td id=\"T_0005e81c_f627_11ea_a8a9_1094bbe29c6erow2_col2\" class=\"data row2 col2\" >$13.83</td>\n",
       "            </tr>\n",
       "            <tr>\n",
       "                        <th id=\"T_0005e81c_f627_11ea_a8a9_1094bbe29c6elevel0_row3\" class=\"row_heading level0 row3\" >Iral74</th>\n",
       "                        <td id=\"T_0005e81c_f627_11ea_a8a9_1094bbe29c6erow3_col0\" class=\"data row3 col0\" >4</td>\n",
       "                        <td id=\"T_0005e81c_f627_11ea_a8a9_1094bbe29c6erow3_col1\" class=\"data row3 col1\" >$3.40</td>\n",
       "                        <td id=\"T_0005e81c_f627_11ea_a8a9_1094bbe29c6erow3_col2\" class=\"data row3 col2\" >$13.62</td>\n",
       "            </tr>\n",
       "            <tr>\n",
       "                        <th id=\"T_0005e81c_f627_11ea_a8a9_1094bbe29c6elevel0_row4\" class=\"row_heading level0 row4\" >Iskadarya95</th>\n",
       "                        <td id=\"T_0005e81c_f627_11ea_a8a9_1094bbe29c6erow4_col0\" class=\"data row4 col0\" >3</td>\n",
       "                        <td id=\"T_0005e81c_f627_11ea_a8a9_1094bbe29c6erow4_col1\" class=\"data row4 col1\" >$4.37</td>\n",
       "                        <td id=\"T_0005e81c_f627_11ea_a8a9_1094bbe29c6erow4_col2\" class=\"data row4 col2\" >$13.10</td>\n",
       "            </tr>\n",
       "    </tbody></table>"
      ],
      "text/plain": [
       "<pandas.io.formats.style.Styler at 0x7f9414e49d60>"
      ]
     },
     "execution_count": 140,
     "metadata": {},
     "output_type": "execute_result"
    }
   ],
   "source": [
    "top_spender_stat= purchase_data.groupby(\"SN\")\n",
    "top_spender_count = top_spender_stat[\"Purchase ID\"].count()\n",
    "avg_purchase_price_spender = top_spender_stat[\"Price\"].mean()\n",
    "purchase_total_spender = top_spender_stat[\"Price\"].sum()\n",
    "\n",
    "top_spenders_df = pd.DataFrame({\"Purchase Count\": top_spender_count,\n",
    "                             \"Average Purchase Price\": avg_purchase_price_spender,\n",
    "                             \"Total Purchase Value\":purchase_total_spender})\n",
    "\n",
    "clean_top_spenders = top_spenders_df.sort_values([\"Total Purchase Value\"], ascending=False).head()\n",
    "clean_top_spenders.style.format({\"Average Purchase Total\":\"${:,.2f}\",\n",
    "                                 \"Average Purchase Price\":\"${:,.2f}\", \n",
    "                                 \"Total Purchase Value\":\"${:,.2f}\"})"
   ]
  },
  {
   "cell_type": "markdown",
   "metadata": {},
   "source": [
    "## Most Popular Items"
   ]
  },
  {
   "cell_type": "markdown",
   "metadata": {},
   "source": [
    "* Retrieve the Item ID, Item Name, and Item Price columns\n",
    "\n",
    "\n",
    "* Group by Item ID and Item Name. Perform calculations to obtain purchase count, item price, and total purchase value\n",
    "\n",
    "\n",
    "* Create a summary data frame to hold the results\n",
    "\n",
    "\n",
    "* Sort the purchase count column in descending order\n",
    "\n",
    "\n",
    "* Optional: give the displayed data cleaner formatting\n",
    "\n",
    "\n",
    "* Display a preview of the summary data frame\n",
    "\n"
   ]
  },
  {
   "cell_type": "code",
   "execution_count": 144,
   "metadata": {},
   "outputs": [
    {
     "data": {
      "text/html": [
       "<style  type=\"text/css\" >\n",
       "</style><table id=\"T_016f0f84_f628_11ea_a8a9_1094bbe29c6e\" ><thead>    <tr>        <th class=\"blank\" ></th>        <th class=\"blank level0\" ></th>        <th class=\"col_heading level0 col0\" >Purchase Count</th>        <th class=\"col_heading level0 col1\" >Item Price</th>        <th class=\"col_heading level0 col2\" >Total Purchase Value</th>    </tr>    <tr>        <th class=\"index_name level0\" >Item ID</th>        <th class=\"index_name level1\" >Item Name</th>        <th class=\"blank\" ></th>        <th class=\"blank\" ></th>        <th class=\"blank\" ></th>    </tr></thead><tbody>\n",
       "                <tr>\n",
       "                        <th id=\"T_016f0f84_f628_11ea_a8a9_1094bbe29c6elevel0_row0\" class=\"row_heading level0 row0\" >92</th>\n",
       "                        <th id=\"T_016f0f84_f628_11ea_a8a9_1094bbe29c6elevel1_row0\" class=\"row_heading level1 row0\" >Final Critic</th>\n",
       "                        <td id=\"T_016f0f84_f628_11ea_a8a9_1094bbe29c6erow0_col0\" class=\"data row0 col0\" >13</td>\n",
       "                        <td id=\"T_016f0f84_f628_11ea_a8a9_1094bbe29c6erow0_col1\" class=\"data row0 col1\" >$4.61</td>\n",
       "                        <td id=\"T_016f0f84_f628_11ea_a8a9_1094bbe29c6erow0_col2\" class=\"data row0 col2\" >$59.99</td>\n",
       "            </tr>\n",
       "            <tr>\n",
       "                        <th id=\"T_016f0f84_f628_11ea_a8a9_1094bbe29c6elevel0_row1\" class=\"row_heading level0 row1\" >178</th>\n",
       "                        <th id=\"T_016f0f84_f628_11ea_a8a9_1094bbe29c6elevel1_row1\" class=\"row_heading level1 row1\" >Oathbreaker, Last Hope of the Breaking Storm</th>\n",
       "                        <td id=\"T_016f0f84_f628_11ea_a8a9_1094bbe29c6erow1_col0\" class=\"data row1 col0\" >12</td>\n",
       "                        <td id=\"T_016f0f84_f628_11ea_a8a9_1094bbe29c6erow1_col1\" class=\"data row1 col1\" >$4.23</td>\n",
       "                        <td id=\"T_016f0f84_f628_11ea_a8a9_1094bbe29c6erow1_col2\" class=\"data row1 col2\" >$50.76</td>\n",
       "            </tr>\n",
       "            <tr>\n",
       "                        <th id=\"T_016f0f84_f628_11ea_a8a9_1094bbe29c6elevel0_row2\" class=\"row_heading level0 row2\" >145</th>\n",
       "                        <th id=\"T_016f0f84_f628_11ea_a8a9_1094bbe29c6elevel1_row2\" class=\"row_heading level1 row2\" >Fiery Glass Crusader</th>\n",
       "                        <td id=\"T_016f0f84_f628_11ea_a8a9_1094bbe29c6erow2_col0\" class=\"data row2 col0\" >9</td>\n",
       "                        <td id=\"T_016f0f84_f628_11ea_a8a9_1094bbe29c6erow2_col1\" class=\"data row2 col1\" >$4.58</td>\n",
       "                        <td id=\"T_016f0f84_f628_11ea_a8a9_1094bbe29c6erow2_col2\" class=\"data row2 col2\" >$41.22</td>\n",
       "            </tr>\n",
       "            <tr>\n",
       "                        <th id=\"T_016f0f84_f628_11ea_a8a9_1094bbe29c6elevel0_row3\" class=\"row_heading level0 row3\" >132</th>\n",
       "                        <th id=\"T_016f0f84_f628_11ea_a8a9_1094bbe29c6elevel1_row3\" class=\"row_heading level1 row3\" >Persuasion</th>\n",
       "                        <td id=\"T_016f0f84_f628_11ea_a8a9_1094bbe29c6erow3_col0\" class=\"data row3 col0\" >9</td>\n",
       "                        <td id=\"T_016f0f84_f628_11ea_a8a9_1094bbe29c6erow3_col1\" class=\"data row3 col1\" >$3.22</td>\n",
       "                        <td id=\"T_016f0f84_f628_11ea_a8a9_1094bbe29c6erow3_col2\" class=\"data row3 col2\" >$28.99</td>\n",
       "            </tr>\n",
       "            <tr>\n",
       "                        <th id=\"T_016f0f84_f628_11ea_a8a9_1094bbe29c6elevel0_row4\" class=\"row_heading level0 row4\" >108</th>\n",
       "                        <th id=\"T_016f0f84_f628_11ea_a8a9_1094bbe29c6elevel1_row4\" class=\"row_heading level1 row4\" >Extraction, Quickblade Of Trembling Hands</th>\n",
       "                        <td id=\"T_016f0f84_f628_11ea_a8a9_1094bbe29c6erow4_col0\" class=\"data row4 col0\" >9</td>\n",
       "                        <td id=\"T_016f0f84_f628_11ea_a8a9_1094bbe29c6erow4_col1\" class=\"data row4 col1\" >$3.53</td>\n",
       "                        <td id=\"T_016f0f84_f628_11ea_a8a9_1094bbe29c6erow4_col2\" class=\"data row4 col2\" >$31.77</td>\n",
       "            </tr>\n",
       "    </tbody></table>"
      ],
      "text/plain": [
       "<pandas.io.formats.style.Styler at 0x7f94163445e0>"
      ]
     },
     "execution_count": 144,
     "metadata": {},
     "output_type": "execute_result"
    }
   ],
   "source": [
    "items_df= purchase_data[[\"Item ID\", \"Item Name\", \"Price\"]]\n",
    "\n",
    "item_info =items_df.groupby([\"Item ID\",\"Item Name\"])\n",
    "\n",
    "item_purchase_count = item_info[\"Price\"].count()\n",
    "item_purchase_cost = (item_info[\"Price\"].sum()) \n",
    "item_price = item_purchase_cost/item_purchase_count\n",
    "\n",
    "popular_items_df = pd.DataFrame({\"Purchase Count\": item_purchase_count, \n",
    "                                   \"Item Price\": item_price,\n",
    "                                   \"Total Purchase Value\":item_purchase_cost})\n",
    "\n",
    "clean_popular_items_df= popular_items_df.sort_values([\"Purchase Count\"], ascending=False).head()\n",
    "\n",
    "clean_popular_items_df.style.format({\"Item Price\":\"${:,.2f}\",\n",
    "                                \"Total Purchase Value\":\"${:,.2f}\"})\n",
    "\n"
   ]
  },
  {
   "cell_type": "markdown",
   "metadata": {},
   "source": [
    "## Most Profitable Items"
   ]
  },
  {
   "cell_type": "markdown",
   "metadata": {},
   "source": [
    "* Sort the above table by total purchase value in descending order\n",
    "\n",
    "\n",
    "* Optional: give the displayed data cleaner formatting\n",
    "\n",
    "\n",
    "* Display a preview of the data frame\n",
    "\n"
   ]
  },
  {
   "cell_type": "code",
   "execution_count": 148,
   "metadata": {
    "scrolled": true
   },
   "outputs": [
    {
     "data": {
      "text/html": [
       "<style  type=\"text/css\" >\n",
       "</style><table id=\"T_5608d6ba_f628_11ea_a8a9_1094bbe29c6e\" ><thead>    <tr>        <th class=\"blank\" ></th>        <th class=\"blank level0\" ></th>        <th class=\"col_heading level0 col0\" >Purchase Count</th>        <th class=\"col_heading level0 col1\" >Item Price</th>        <th class=\"col_heading level0 col2\" >Total Purchase Value</th>    </tr>    <tr>        <th class=\"index_name level0\" >Item ID</th>        <th class=\"index_name level1\" >Item Name</th>        <th class=\"blank\" ></th>        <th class=\"blank\" ></th>        <th class=\"blank\" ></th>    </tr></thead><tbody>\n",
       "                <tr>\n",
       "                        <th id=\"T_5608d6ba_f628_11ea_a8a9_1094bbe29c6elevel0_row0\" class=\"row_heading level0 row0\" >92</th>\n",
       "                        <th id=\"T_5608d6ba_f628_11ea_a8a9_1094bbe29c6elevel1_row0\" class=\"row_heading level1 row0\" >Final Critic</th>\n",
       "                        <td id=\"T_5608d6ba_f628_11ea_a8a9_1094bbe29c6erow0_col0\" class=\"data row0 col0\" >13</td>\n",
       "                        <td id=\"T_5608d6ba_f628_11ea_a8a9_1094bbe29c6erow0_col1\" class=\"data row0 col1\" >$4.61</td>\n",
       "                        <td id=\"T_5608d6ba_f628_11ea_a8a9_1094bbe29c6erow0_col2\" class=\"data row0 col2\" >$59.99</td>\n",
       "            </tr>\n",
       "            <tr>\n",
       "                        <th id=\"T_5608d6ba_f628_11ea_a8a9_1094bbe29c6elevel0_row1\" class=\"row_heading level0 row1\" >178</th>\n",
       "                        <th id=\"T_5608d6ba_f628_11ea_a8a9_1094bbe29c6elevel1_row1\" class=\"row_heading level1 row1\" >Oathbreaker, Last Hope of the Breaking Storm</th>\n",
       "                        <td id=\"T_5608d6ba_f628_11ea_a8a9_1094bbe29c6erow1_col0\" class=\"data row1 col0\" >12</td>\n",
       "                        <td id=\"T_5608d6ba_f628_11ea_a8a9_1094bbe29c6erow1_col1\" class=\"data row1 col1\" >$4.23</td>\n",
       "                        <td id=\"T_5608d6ba_f628_11ea_a8a9_1094bbe29c6erow1_col2\" class=\"data row1 col2\" >$50.76</td>\n",
       "            </tr>\n",
       "            <tr>\n",
       "                        <th id=\"T_5608d6ba_f628_11ea_a8a9_1094bbe29c6elevel0_row2\" class=\"row_heading level0 row2\" >82</th>\n",
       "                        <th id=\"T_5608d6ba_f628_11ea_a8a9_1094bbe29c6elevel1_row2\" class=\"row_heading level1 row2\" >Nirvana</th>\n",
       "                        <td id=\"T_5608d6ba_f628_11ea_a8a9_1094bbe29c6erow2_col0\" class=\"data row2 col0\" >9</td>\n",
       "                        <td id=\"T_5608d6ba_f628_11ea_a8a9_1094bbe29c6erow2_col1\" class=\"data row2 col1\" >$4.90</td>\n",
       "                        <td id=\"T_5608d6ba_f628_11ea_a8a9_1094bbe29c6erow2_col2\" class=\"data row2 col2\" >$44.10</td>\n",
       "            </tr>\n",
       "            <tr>\n",
       "                        <th id=\"T_5608d6ba_f628_11ea_a8a9_1094bbe29c6elevel0_row3\" class=\"row_heading level0 row3\" >145</th>\n",
       "                        <th id=\"T_5608d6ba_f628_11ea_a8a9_1094bbe29c6elevel1_row3\" class=\"row_heading level1 row3\" >Fiery Glass Crusader</th>\n",
       "                        <td id=\"T_5608d6ba_f628_11ea_a8a9_1094bbe29c6erow3_col0\" class=\"data row3 col0\" >9</td>\n",
       "                        <td id=\"T_5608d6ba_f628_11ea_a8a9_1094bbe29c6erow3_col1\" class=\"data row3 col1\" >$4.58</td>\n",
       "                        <td id=\"T_5608d6ba_f628_11ea_a8a9_1094bbe29c6erow3_col2\" class=\"data row3 col2\" >$41.22</td>\n",
       "            </tr>\n",
       "            <tr>\n",
       "                        <th id=\"T_5608d6ba_f628_11ea_a8a9_1094bbe29c6elevel0_row4\" class=\"row_heading level0 row4\" >103</th>\n",
       "                        <th id=\"T_5608d6ba_f628_11ea_a8a9_1094bbe29c6elevel1_row4\" class=\"row_heading level1 row4\" >Singed Scalpel</th>\n",
       "                        <td id=\"T_5608d6ba_f628_11ea_a8a9_1094bbe29c6erow4_col0\" class=\"data row4 col0\" >8</td>\n",
       "                        <td id=\"T_5608d6ba_f628_11ea_a8a9_1094bbe29c6erow4_col1\" class=\"data row4 col1\" >$4.35</td>\n",
       "                        <td id=\"T_5608d6ba_f628_11ea_a8a9_1094bbe29c6erow4_col2\" class=\"data row4 col2\" >$34.80</td>\n",
       "            </tr>\n",
       "    </tbody></table>"
      ],
      "text/plain": [
       "<pandas.io.formats.style.Styler at 0x7f94164098e0>"
      ]
     },
     "execution_count": 148,
     "metadata": {},
     "output_type": "execute_result"
    }
   ],
   "source": [
    "profitable_items_df = popular_items_df.sort_values([\"Total Purchase Value\"],\n",
    "                                                   ascending=False).head()\n",
    "profitable_items_df.style.format({\"Item Price\":\"${:,.2f}\",\n",
    "                                \"Total Purchase Value\":\"${:,.2f}\"})"
   ]
  },
  {
   "cell_type": "code",
   "execution_count": null,
   "metadata": {},
   "outputs": [],
   "source": []
  }
 ],
 "metadata": {
  "anaconda-cloud": {},
  "kernel_info": {
   "name": "python3"
  },
  "kernelspec": {
   "display_name": "Python 3",
   "language": "python",
   "name": "python3"
  },
  "language_info": {
   "codemirror_mode": {
    "name": "ipython",
    "version": 3
   },
   "file_extension": ".py",
   "mimetype": "text/x-python",
   "name": "python",
   "nbconvert_exporter": "python",
   "pygments_lexer": "ipython3",
   "version": "3.8.3"
  },
  "latex_envs": {
   "LaTeX_envs_menu_present": true,
   "autoclose": false,
   "autocomplete": true,
   "bibliofile": "biblio.bib",
   "cite_by": "apalike",
   "current_citInitial": 1,
   "eqLabelWithNumbers": true,
   "eqNumInitial": 1,
   "hotkeys": {
    "equation": "Ctrl-E",
    "itemize": "Ctrl-I"
   },
   "labels_anchors": false,
   "latex_user_defs": false,
   "report_style_numbering": false,
   "user_envs_cfg": false
  },
  "nteract": {
   "version": "0.2.0"
  }
 },
 "nbformat": 4,
 "nbformat_minor": 4
}
